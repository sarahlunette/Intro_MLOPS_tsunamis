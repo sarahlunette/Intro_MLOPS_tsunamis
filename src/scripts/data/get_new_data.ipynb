Note: Add the data freshly arrived in the database (in the case of an easily accessible database / imagine there is a nex file every month)
