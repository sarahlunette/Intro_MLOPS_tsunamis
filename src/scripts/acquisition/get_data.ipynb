Note: This file would scrape the data from the tsunamis website
